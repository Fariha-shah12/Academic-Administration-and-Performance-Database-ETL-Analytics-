{
 "cells": [
  {
   "cell_type": "code",
   "execution_count": 1,
   "metadata": {},
   "outputs": [
    {
     "name": "stderr",
     "output_type": "stream",
     "text": [
      "c:\\Users\\tyler\\miniconda3\\envs\\general\\Lib\\site-packages\\tqdm\\auto.py:21: TqdmWarning: IProgress not found. Please update jupyter and ipywidgets. See https://ipywidgets.readthedocs.io/en/stable/user_install.html\n",
      "  from .autonotebook import tqdm as notebook_tqdm\n"
     ]
    }
   ],
   "source": [
    "import pandas as pd\n",
    "import mysql.connector\n",
    "import gradio as gr"
   ]
  },
  {
   "cell_type": "code",
   "execution_count": null,
   "metadata": {},
   "outputs": [],
   "source": [
    "# TODO: Change these according to your setup\n",
    "host = \"localhost\"\n",
    "user = \"root\"\n",
    "password = \"YOUR PASSWORD\"\n",
    "database = \"University\""
   ]
  },
  {
   "cell_type": "code",
   "execution_count": 3,
   "metadata": {},
   "outputs": [],
   "source": [
    "def connect_to_database():\n",
    "    return mysql.connector.connect(\n",
    "        host = host,\n",
    "        user = user,\n",
    "        password = password,\n",
    "        database = database\n",
    "    )\n",
    "\n",
    "def query(sql,params=None):\n",
    "    db = None\n",
    "    cursor = None\n",
    "    try:\n",
    "        db = connect_to_database()\n",
    "        cursor = db.cursor()\n",
    "        cursor.execute(sql,params or ())\n",
    "        result = cursor.fetchall()\n",
    "        column_names = [column[0] for column in cursor.description]\n",
    "        return pd.DataFrame(result, columns=column_names)\n",
    "    except Exception as e:\n",
    "        return pd.DataFrame(data={\"Error Message\":[e]})\n",
    "    finally:\n",
    "        # close resources if they were opened\n",
    "        if cursor:\n",
    "            cursor.close()\n",
    "        if db and db.is_connected():\n",
    "            db.close()\n",
    "\n",
    "def procedure(proc,params=None):\n",
    "    db = None\n",
    "    cursor = None\n",
    "    try:\n",
    "        db = connect_to_database()\n",
    "        cursor = db.cursor()\n",
    "        cursor.callproc(proc,params or ())\n",
    "        result_cursor = list(cursor.stored_results())[0]  # just grab the cursor of the first result set\n",
    "        result = result_cursor.fetchall()\n",
    "        column_names = [column[0] for column in result_cursor.description]\n",
    "        return pd.DataFrame(result, columns=column_names)\n",
    "    except Exception as e:\n",
    "        return pd.DataFrame(data={\"Error Message\":[e]})\n",
    "    finally:\n",
    "        if cursor:\n",
    "            cursor.close()\n",
    "        if db and db.is_connected():\n",
    "            db.close()"
   ]
  },
  {
   "cell_type": "code",
   "execution_count": 4,
   "metadata": {},
   "outputs": [],
   "source": [
    "def df_to_html(df):\n",
    "    return df.to_html(classes=\"table table-striped\", index=False)"
   ]
  },
  {
   "cell_type": "code",
   "execution_count": 5,
   "metadata": {},
   "outputs": [],
   "source": [
    "# sql queries\n",
    "avg_crs_depth_prereq = \"WITH course_depth_and_prereqs AS ( WITH RECURSIVE prereq_path_length AS ( SELECT P.Crs_id AS start_crs_id, P.Prereq_crs_id AS end_crs_id, 1 AS path_length FROM Prerequisite AS P UNION ALL SELECT PPL.start_crs_id AS start_crs_id, P.Prereq_crs_id AS end_crs_id, (PPL.path_length + 1) AS path_length FROM prereq_path_length AS PPL, Prerequisite AS P WHERE PPL.end_crs_id = P.Crs_id ) SELECT D.Dept_code, C.Crs_num, C.Crs_name, (CASE WHEN MAX(PPL.path_length) IS NULL THEN 0 ELSE MAX(PPL.path_length) END) AS depth, COUNT(DISTINCT PPL.end_crs_id) AS prerequisites FROM Course AS C JOIN Department D ON C.Dept_id = D.Dept_id LEFT JOIN prereq_path_length AS PPL ON C.Crs_id = PPL.start_crs_id GROUP BY C.Crs_id ) SELECT Dept_code, AVG(depth), AVG(prerequisites) FROM course_depth_and_prereqs GROUP BY Dept_code;\"\n",
    "five_lowest_passing_rate = \"SELECT D.Dept_code department, C.Crs_num course_num, C.Crs_name course_name, COUNT(DISTINCT FG.Sect_id) num_sections, COUNT(FG.Stud_id) num_students, ROUND(SUM(CASE WHEN FG.grade_point >= 1.0 THEN 1 ELSE 0 END)/COUNT(*),2) passing_rate FROM COURSE C, Section S, Department D, Final_Grade FG WHERE C.Crs_id = S.Crs_id AND C.Dept_id = D.Dept_id AND S.Sect_id = FG.Sect_id GROUP BY C.Crs_id HAVING COUNT(FG.Stud_id) >= 20 ORDER BY passing_rate ASC LIMIT 5;\"\n",
    "five_hardest_prof = \"SELECT P.Prof_id id, P.Prof_fname first_name, P.Prof_lname last_name, COUNT(DISTINCT FG.Sect_id) num_sections, COUNT(FG.Stud_id) num_students, ROUND(AVG(FG.overall_grade),3) average_grade, ROUND(AVG(FG.grade_point),2) average_grade_point FROM Professor P, Section S, Final_Grade FG WHERE P.Prof_id = S.Prof_id AND S.Sect_id = FG.Sect_id GROUP BY P.Prof_id HAVING COUNT(FG.Stud_id) >= 20 ORDER BY average_grade ASC LIMIT 5;\"\n",
    "rel_grade_TA = \"WITH TA_counts AS ( SELECT Stud_id, COUNT(DISTINCT Sect_id) as times_TAd FROM TA GROUP BY Stud_id ) SELECT CASE WHEN TC.times_TAd > 5 THEN 'Frequent TA (>5 sections)' WHEN tc.times_TAd IS NOT NULL THEN 'Occasional TA (1-5 sections)' ELSE 'Never TA' END TA_frequency, COUNT(DISTINCT s.Stud_id) student_count, ROUND(AVG(S.Stud_GPA),2) average_GPA, ROUND(MIN(s.Stud_GPA),2) minimum_GPA, ROUND(MAX(s.Stud_GPA),2) maximum_GPA FROM Student S LEFT JOIN TA_counts TC ON S.Stud_id = TC.Stud_id WHERE S.Stud_GPA IS NOT NULL GROUP BY TA_frequency ORDER BY average_GPA DESC;\"\n",
    "avg_gpa_by_major = \"SELECT D.Dept_name AS department, AVG(S.Stud_GPA) AS average_gpa FROM Major_Minor AS MM, Department AS D, Student AS S WHERE MM.Stud_id = S.Stud_id AND MM.Dept_id = D.Dept_id AND MM.type = 'Major' GROUP BY D.Dept_name ORDER BY average_gpa DESC;\"\n",
    "stud_perf_by_quarter = \"SELECT Sect_quarter, ROUND(AVG(fg.grade_point), 3) as avg_grade_point, ROUND(AVG(fg.overall_grade * 100), 2) as avg_percentage FROM Section S, Final_Grade FG WHERE S.Sect_id = FG.Sect_id GROUP BY Sect_quarter ORDER BY Sect_quarter;\"\n",
    "\n",
    "# option => function\n",
    "opt_fnc = {\n",
    "    \"Custom query (be nice!)\": lambda **kwargs: df_to_html(query(kwargs[\"sql\"])),\n",
    "    \"Get student transcript\": lambda **kwargs: df_to_html(procedure(\"GetTranscript\",(kwargs[\"stud_id\"],))),\n",
    "    \"Get professor schedule\": lambda **kwargs: df_to_html(procedure(\"GetProfessorSchedule\",(kwargs[\"prof_id\"],kwargs[\"year\"],kwargs[\"quarter\"]))),\n",
    "    \"Get course prerequisites\": lambda **kwargs: df_to_html(procedure(\"GetCoursePrerequisites\",(kwargs[\"dept_code\"],kwargs[\"crs_num\"]))),\n",
    "    \"What is the average course depth and number of prerequisites for each department?\": lambda **kwargs: df_to_html(query(avg_crs_depth_prereq)),\n",
    "    \"What are the five courses with the lowest passing rate?\": lambda **kwargs: df_to_html(query(five_lowest_passing_rate)),\n",
    "    \"Who are the five hardest professors?\": lambda **kwargs: df_to_html(query(five_hardest_prof)),\n",
    "    \"What is the relationship between student grades and TA frequency?\": lambda **kwargs: df_to_html(query(rel_grade_TA)),\n",
    "    \"What is the average student GPA for each major?\": lambda **kwargs: df_to_html(query(avg_gpa_by_major)),\n",
    "    \"How does student performance change across quarters?\": lambda **kwargs: df_to_html(query(stud_perf_by_quarter))\n",
    "}\n",
    "\n",
    "options = list(opt_fnc.keys())"
   ]
  },
  {
   "cell_type": "code",
   "execution_count": 7,
   "metadata": {},
   "outputs": [
    {
     "name": "stdout",
     "output_type": "stream",
     "text": [
      "* Running on local URL:  http://127.0.0.1:7861\n",
      "\n",
      "To create a public link, set `share=True` in `launch()`.\n"
     ]
    },
    {
     "data": {
      "text/html": [
       "<div><iframe src=\"http://127.0.0.1:7861/\" width=\"100%\" height=\"500\" allow=\"autoplay; camera; microphone; clipboard-read; clipboard-write;\" frameborder=\"0\" allowfullscreen></iframe></div>"
      ],
      "text/plain": [
       "<IPython.core.display.HTML object>"
      ]
     },
     "metadata": {},
     "output_type": "display_data"
    },
    {
     "data": {
      "text/plain": []
     },
     "execution_count": 7,
     "metadata": {},
     "output_type": "execute_result"
    }
   ],
   "source": [
    "def submit(option_input,sql,stud_id,prof_id,year,quarter,dept_code,crs_num):\n",
    "    # If integer parameters are submitted, make sure that they are acutally integers\n",
    "    if stud_id != \"\":\n",
    "        try:\n",
    "            stud_id = int(stud_id)\n",
    "        except ValueError:\n",
    "            return \"Student id must be an integer\"\n",
    "    if prof_id != \"\":\n",
    "        try:\n",
    "            prof_id = int(prof_id)\n",
    "        except ValueError:\n",
    "            return \"Professor id must be an integer\"\n",
    "    if year != \"\":\n",
    "        try:\n",
    "            year = int(year)\n",
    "        except ValueError:\n",
    "            return \"Year must be an integer\"\n",
    "    if quarter != \"\":\n",
    "        try:\n",
    "            quarter = int(quarter)\n",
    "        except ValueError:\n",
    "            return \"Student id must be an integer\"\n",
    "    if crs_num != \"\":\n",
    "        try:\n",
    "            crs_num = int(crs_num)\n",
    "        except ValueError:\n",
    "            return \"Course number must be an integer\"\n",
    "    \n",
    "    # Pass the parameter data to the corresponding function\n",
    "    kwargs = {\n",
    "        \"sql\": sql,\n",
    "        \"stud_id\": stud_id,\n",
    "        \"prof_id\": prof_id,\n",
    "        \"year\": year,\n",
    "        \"quarter\": quarter,\n",
    "        \"dept_code\": dept_code,\n",
    "        \"crs_num\": crs_num\n",
    "    }\n",
    "    return opt_fnc[option_input](**kwargs)\n",
    "\n",
    "# returns a function lambda(option) that toggles visibility if option is in opts\n",
    "def update_visibility(opts):\n",
    "    return lambda option: gr.update(visible=(option in opts))\n",
    "\n",
    "with gr.Blocks() as demo:\n",
    "    option_input = gr.Radio(options, label = \"Select an option\")\n",
    "\n",
    "    # parameter fields\n",
    "    sql = gr.Textbox(label=\"Enter SQL\", visible=False)\n",
    "    stud_id = gr.Textbox(label=\"Enter Student ID\", visible=False)\n",
    "    prof_id = gr.Textbox(label=\"Enter Professor ID\", visible=False)\n",
    "    year = gr.Textbox(label=\"Enter Year\", visible=False)\n",
    "    quarter = gr.Textbox(label=\"Enter Quarter (1,2,3,4)\", visible=False)\n",
    "    dept_code = gr.Textbox(label=\"Enter Department Code\", visible=False)\n",
    "    crs_num = gr.Textbox(label=\"Enter Course Number\", visible=False)\n",
    "\n",
    "    # update parameter visibility if the corresponding options are selected\n",
    "    option_input.change(update_visibility([options[0]]), option_input, sql)\n",
    "    option_input.change(update_visibility([options[1]]), option_input, stud_id)\n",
    "    option_input.change(update_visibility([options[2]]), option_input, prof_id)\n",
    "    option_input.change(update_visibility([options[2]]), option_input, year)\n",
    "    option_input.change(update_visibility([options[2]]), option_input, quarter)\n",
    "    option_input.change(update_visibility([options[3]]), option_input, dept_code)\n",
    "    option_input.change(update_visibility([options[3]]), option_input, crs_num)\n",
    "\n",
    "    submit_button = gr.Button(\"Submit\")\n",
    "    output = gr.HTML()\n",
    "    submit_button.click(\n",
    "        submit,\n",
    "        inputs = [option_input,sql,stud_id,prof_id,year,quarter,dept_code,crs_num],\n",
    "        outputs = output\n",
    "    )\n",
    "\n",
    "demo.launch()"
   ]
  },
  {
   "cell_type": "code",
   "execution_count": null,
   "metadata": {},
   "outputs": [],
   "source": []
  }
 ],
 "metadata": {
  "kernelspec": {
   "display_name": "general",
   "language": "python",
   "name": "python3"
  },
  "language_info": {
   "codemirror_mode": {
    "name": "ipython",
    "version": 3
   },
   "file_extension": ".py",
   "mimetype": "text/x-python",
   "name": "python",
   "nbconvert_exporter": "python",
   "pygments_lexer": "ipython3",
   "version": "3.12.5"
  }
 },
 "nbformat": 4,
 "nbformat_minor": 2
}
